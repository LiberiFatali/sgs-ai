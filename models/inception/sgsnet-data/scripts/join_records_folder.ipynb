{
 "cells": [
  {
   "cell_type": "code",
   "execution_count": null,
   "metadata": {
    "collapsed": true
   },
   "outputs": [],
   "source": [
    "import os"
   ]
  },
  {
   "cell_type": "code",
   "execution_count": null,
   "metadata": {
    "collapsed": true
   },
   "outputs": [],
   "source": []
  },
  {
   "cell_type": "code",
   "execution_count": null,
   "metadata": {
    "collapsed": false
   },
   "outputs": [],
   "source": [
    "# get list of train records in main folder and incremental folder\n",
    "main_folderpath = '/media/hieunguyen/DATA/Dataset/SGS/sgsnet/data/SgsImageNet_TFRecord_balance/'\n",
    "inc_folderpath = '/media/hieunguyen/DATA/Dataset/SGS/sgsnet/data/SgsImageNet_TFRecord_balance_inc/'\n",
    "lstMainFiles = [f for f in os.listdir(main_folderpath) if 'train' in f]\n",
    "lstIncFiles = [f for f in os.listdir(inc_folderpath) if 'train' in f]\n",
    "print len(lstMainFiles)\n",
    "print len(lstIncFiles)"
   ]
  },
  {
   "cell_type": "code",
   "execution_count": null,
   "metadata": {
    "collapsed": false
   },
   "outputs": [],
   "source": [
    "# get number of new records from inc (incremental) folder\n",
    "if lstIncFiles:\n",
    "    fname_tokens = lstIncFiles[0].split('-')\n",
    "    strNewRecords = fname_tokens[-1]\n",
    "    intNewRecords = int(strNewRecords)\n",
    "else:\n",
    "    intNewRecords = 0\n",
    "\n",
    "# get new total number of records\n",
    "fname_tokens = lstMainFiles[0].split('-')\n",
    "strCurrentMax = fname_tokens[-1]\n",
    "intNewMax = int(strCurrentMax) + intNewRecords\n",
    "strNewMax = '%05d' % intNewMax\n",
    "\n",
    "print strCurrentMax\n",
    "print strNewMax"
   ]
  },
  {
   "cell_type": "code",
   "execution_count": null,
   "metadata": {
    "collapsed": false
   },
   "outputs": [],
   "source": [
    "# rename files in main folder with new total number in their names\n",
    "for i in xrange(len(lstMainFiles)):   \n",
    "    currentName = lstMainFiles[i]\n",
    "    newName =  currentName.replace(strCurrentMax, strNewMax)    \n",
    "    #print currentName\n",
    "    #print newName\n",
    "    #break\n",
    "    \n",
    "    os.rename(main_folderpath+currentName, main_folderpath+newName)\n",
    "    \n",
    "    \n",
    "#print lstMainFiles\n",
    "\n",
    "# rename (move) files in inc folder into main folders with new total number in their names\n",
    "for i in xrange(len(lstIncFiles)):   \n",
    "    currentName = lstIncFiles[i]\n",
    "    fname_tokens = currentName.split('-')\n",
    "    strCurrentOrder = fname_tokens[-3]\n",
    "    intNewOrder = int(strCurrentOrder) + int(strCurrentMax)\n",
    "    strNewOrder = '%05d' % intNewOrder    \n",
    "    newName =  currentName.replace(strNewRecords, strNewMax)\n",
    "    newName =  newName.replace(strCurrentOrder, strNewOrder)\n",
    "    #print currentName\n",
    "    #print newName\n",
    "    #break\n",
    "    \n",
    "    os.rename(inc_folderpath+currentName, main_folderpath+newName)\n"
   ]
  },
  {
   "cell_type": "code",
   "execution_count": null,
   "metadata": {
    "collapsed": false
   },
   "outputs": [],
   "source": [
    "# n=4\n",
    "# print '%03d' % n\n",
    "# A = '%03d' % n\n",
    "# print A\n"
   ]
  }
 ],
 "metadata": {
  "kernelspec": {
   "display_name": "Python 2",
   "language": "python",
   "name": "python2"
  },
  "language_info": {
   "codemirror_mode": {
    "name": "ipython",
    "version": 2
   },
   "file_extension": ".py",
   "mimetype": "text/x-python",
   "name": "python",
   "nbconvert_exporter": "python",
   "pygments_lexer": "ipython2",
   "version": "2.7.6"
  }
 },
 "nbformat": 4,
 "nbformat_minor": 1
}
